{
 "cells": [
  {
   "cell_type": "markdown",
   "metadata": {},
   "source": [
    "# Generate the Sankeys for each country from 2016 to 2023"
   ]
  },
  {
   "cell_type": "code",
   "execution_count": 1,
   "metadata": {},
   "outputs": [],
   "source": [
    "%load_ext autoreload\n",
    "%autoreload 2"
   ]
  },
  {
   "cell_type": "code",
   "execution_count": 2,
   "metadata": {},
   "outputs": [],
   "source": [
    "from src.DataBaseManager import DBMS\n",
    "from src.plotting.sankey import plot_sankey\n",
    "from config import PLOTS_DIR\n",
    "\n",
    "DB = DBMS()"
   ]
  },
  {
   "cell_type": "markdown",
   "metadata": {},
   "source": [
    "## Estonia"
   ]
  },
  {
   "cell_type": "code",
   "execution_count": 3,
   "metadata": {},
   "outputs": [],
   "source": [
    "country = \"Estonia\"\n",
    "chip_graphs = DB.read(\n",
    "    \"GET_CHIP_GRAPH\", {\"_AREA_\": country, \"_YEAR_FROM_\": \"2016\", \"_YEAR_TO_\": \"2023\"}\n",
    ")\n",
    "\n",
    "grouped = (\n",
    "    chip_graphs[[\"lulc_category_from\", \"lulc_category_to\", \"changed_area\"]]\n",
    "    .groupby([\"lulc_category_from\", \"lulc_category_to\"])\n",
    "    .sum()\n",
    "    .reset_index()\n",
    ")\n",
    "\n",
    "energy_prod = grouped[\n",
    "    (grouped[\"lulc_category_to\"] == \"Wind Turbine\")\n",
    "    | (grouped[\"lulc_category_to\"] == \"Solar Panel\")\n",
    "]\n",
    "\n",
    "energy_prod = energy_prod[energy_prod[\"changed_area\"] > 0.5]\n",
    "grouped = grouped[grouped[\"changed_area\"] > 1]"
   ]
  },
  {
   "cell_type": "code",
   "execution_count": 4,
   "metadata": {},
   "outputs": [],
   "source": [
    "plot_sankey(\n",
    "    energy_prod,\n",
    "    f\"Estonia Renewables - {energy_prod[\"changed_area\"].sum():.0f} km² changed\",\n",
    "    outpath=f\"{PLOTS_DIR}/sankey/Estonia (Renewable Energy Production).png\",\n",
    ")"
   ]
  },
  {
   "cell_type": "code",
   "execution_count": 5,
   "metadata": {},
   "outputs": [],
   "source": [
    "plot_sankey(\n",
    "    grouped,\n",
    "    f\"Estonia - {grouped[\"changed_area\"].sum():.0f} km² changed\",\n",
    "    outpath=f\"{PLOTS_DIR}/sankey/Estonia.png\",\n",
    ")"
   ]
  },
  {
   "cell_type": "markdown",
   "metadata": {},
   "source": [
    "## Israel"
   ]
  },
  {
   "cell_type": "code",
   "execution_count": 6,
   "metadata": {},
   "outputs": [],
   "source": [
    "country = \"Israel\"\n",
    "chip_graphs = DB.read(\n",
    "    \"GET_CHIP_GRAPH\", {\"_AREA_\": country, \"_YEAR_FROM_\": \"2016\", \"_YEAR_TO_\": \"2023\"}\n",
    ")\n",
    "\n",
    "grouped = (\n",
    "    chip_graphs[[\"lulc_category_from\", \"lulc_category_to\", \"changed_area\"]]\n",
    "    .groupby([\"lulc_category_from\", \"lulc_category_to\"])\n",
    "    .sum()\n",
    "    .reset_index()\n",
    ")\n",
    "\n",
    "energy_prod = grouped[\n",
    "    (grouped[\"lulc_category_to\"] == \"Wind Turbine\")\n",
    "    | (grouped[\"lulc_category_to\"] == \"Solar Panel\")\n",
    "]\n",
    "\n",
    "energy_prod = energy_prod[energy_prod[\"changed_area\"] > 0.5]\n",
    "grouped = grouped[grouped[\"changed_area\"] > 1]"
   ]
  },
  {
   "cell_type": "code",
   "execution_count": 7,
   "metadata": {},
   "outputs": [],
   "source": [
    "plot_sankey(\n",
    "    energy_prod,\n",
    "    f\"Israel Renewables - {energy_prod[\"changed_area\"].sum():.0f} km² changed\",\n",
    "    outpath=f\"{PLOTS_DIR}/sankey/Israel (Renewable Energy Production).png\",\n",
    ")"
   ]
  },
  {
   "cell_type": "code",
   "execution_count": 8,
   "metadata": {},
   "outputs": [],
   "source": [
    "plot_sankey(\n",
    "    grouped,\n",
    "    f\"Israel - {grouped[\"changed_area\"].sum():.0f} km² changed\",\n",
    "    outpath=f\"{PLOTS_DIR}/sankey/Israel.png\",\n",
    ")"
   ]
  },
  {
   "cell_type": "markdown",
   "metadata": {},
   "source": [
    "## Netherlands"
   ]
  },
  {
   "cell_type": "code",
   "execution_count": 9,
   "metadata": {},
   "outputs": [],
   "source": [
    "country = \"Netherlands\"\n",
    "chip_graphs = DB.read(\n",
    "    \"GET_CHIP_GRAPH\", {\"_AREA_\": country, \"_YEAR_FROM_\": \"2016\", \"_YEAR_TO_\": \"2023\"}\n",
    ")\n",
    "\n",
    "grouped = (\n",
    "    chip_graphs[[\"lulc_category_from\", \"lulc_category_to\", \"changed_area\"]]\n",
    "    .groupby([\"lulc_category_from\", \"lulc_category_to\"])\n",
    "    .sum()\n",
    "    .reset_index()\n",
    ")\n",
    "\n",
    "energy_prod = grouped[\n",
    "    (grouped[\"lulc_category_to\"] == \"Wind Turbine\")\n",
    "    | (grouped[\"lulc_category_to\"] == \"Solar Panel\")\n",
    "]\n",
    "\n",
    "energy_prod = energy_prod[energy_prod[\"changed_area\"] > 0.5]\n",
    "grouped = grouped[grouped[\"changed_area\"] > 1]"
   ]
  },
  {
   "cell_type": "code",
   "execution_count": 10,
   "metadata": {},
   "outputs": [],
   "source": [
    "plot_sankey(\n",
    "    energy_prod,\n",
    "    f\"Netherlands Renewables - {energy_prod[\"changed_area\"].sum():.0f} km² changed\",\n",
    "    outpath=f\"{PLOTS_DIR}/sankey/Netherlands (Renewable Energy Production).png\",\n",
    ")"
   ]
  },
  {
   "cell_type": "code",
   "execution_count": 11,
   "metadata": {},
   "outputs": [],
   "source": [
    "plot_sankey(\n",
    "    grouped,\n",
    "    f\"Netherlands - {grouped[\"changed_area\"].sum():.0f} km² changed\",\n",
    "    outpath=f\"{PLOTS_DIR}/sankey/Netherlands.png\",\n",
    ")"
   ]
  },
  {
   "cell_type": "markdown",
   "metadata": {},
   "source": [
    "## Denmark"
   ]
  },
  {
   "cell_type": "code",
   "execution_count": 12,
   "metadata": {},
   "outputs": [],
   "source": [
    "country = \"Denmark\"\n",
    "chip_graphs = DB.read(\n",
    "    \"GET_CHIP_GRAPH\", {\"_AREA_\": country, \"_YEAR_FROM_\": \"2016\", \"_YEAR_TO_\": \"2023\"}\n",
    ")\n",
    "\n",
    "grouped = (\n",
    "    chip_graphs[[\"lulc_category_from\", \"lulc_category_to\", \"changed_area\"]]\n",
    "    .groupby([\"lulc_category_from\", \"lulc_category_to\"])\n",
    "    .sum()\n",
    "    .reset_index()\n",
    ")\n",
    "\n",
    "energy_prod = grouped[\n",
    "    (grouped[\"lulc_category_to\"] == \"Wind Turbine\")\n",
    "    | (grouped[\"lulc_category_to\"] == \"Solar Panel\")\n",
    "]\n",
    "\n",
    "energy_prod = energy_prod[energy_prod[\"changed_area\"] > 0.5]\n",
    "grouped = grouped[grouped[\"changed_area\"] > 1]"
   ]
  },
  {
   "cell_type": "code",
   "execution_count": 13,
   "metadata": {},
   "outputs": [],
   "source": [
    "plot_sankey(\n",
    "    energy_prod,\n",
    "    f\"Denmark Renewables - {energy_prod[\"changed_area\"].sum():.0f} km² changed\",\n",
    "    outpath=f\"{PLOTS_DIR}/sankey/Denmark (Renewable Energy Production).png\",\n",
    ")"
   ]
  },
  {
   "cell_type": "code",
   "execution_count": 14,
   "metadata": {},
   "outputs": [],
   "source": [
    "plot_sankey(\n",
    "    grouped,\n",
    "    f\"Denmark - {grouped[\"changed_area\"].sum():.0f} km² changed\",\n",
    "    outpath=f\"{PLOTS_DIR}/sankey/Denmark.png\",\n",
    ")"
   ]
  },
  {
   "cell_type": "code",
   "execution_count": null,
   "metadata": {},
   "outputs": [],
   "source": []
  },
  {
   "cell_type": "code",
   "execution_count": null,
   "metadata": {},
   "outputs": [],
   "source": []
  }
 ],
 "metadata": {
  "kernelspec": {
   "display_name": ".venv",
   "language": "python",
   "name": "python3"
  },
  "language_info": {
   "codemirror_mode": {
    "name": "ipython",
    "version": 3
   },
   "file_extension": ".py",
   "mimetype": "text/x-python",
   "name": "python",
   "nbconvert_exporter": "python",
   "pygments_lexer": "ipython3",
   "version": "3.12.1"
  }
 },
 "nbformat": 4,
 "nbformat_minor": 2
}
